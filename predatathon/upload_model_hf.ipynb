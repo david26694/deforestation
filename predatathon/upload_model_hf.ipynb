{
 "cells": [
  {
   "cell_type": "code",
   "execution_count": 1,
   "id": "9583ccc8",
   "metadata": {
    "_cell_guid": "b1076dfc-b9ad-4769-8c92-a6c4dae69d19",
    "_uuid": "8f2839f25d086af736a60e9eeb907d3b93b6e0e5",
    "execution": {
     "iopub.execute_input": "2022-10-29T19:22:42.588371Z",
     "iopub.status.busy": "2022-10-29T19:22:42.587577Z",
     "iopub.status.idle": "2022-10-29T19:22:42.600174Z",
     "shell.execute_reply": "2022-10-29T19:22:42.599273Z"
    },
    "papermill": {
     "duration": 0.020804,
     "end_time": "2022-10-29T19:22:42.602533",
     "exception": false,
     "start_time": "2022-10-29T19:22:42.581729",
     "status": "completed"
    },
    "tags": []
   },
   "outputs": [],
   "source": [
    "import pandas as pd # data processing, CSV file I/O (e.g. pd.read_csv)\n",
    "from pathlib import Path\n",
    "import matplotlib.pyplot as plt"
   ]
  },
  {
   "cell_type": "code",
   "execution_count": 2,
   "id": "e97ff48f",
   "metadata": {
    "execution": {
     "iopub.execute_input": "2022-10-29T19:22:57.096928Z",
     "iopub.status.busy": "2022-10-29T19:22:57.096600Z",
     "iopub.status.idle": "2022-10-29T19:22:57.171390Z",
     "shell.execute_reply": "2022-10-29T19:22:57.170295Z"
    },
    "papermill": {
     "duration": 0.081818,
     "end_time": "2022-10-29T19:22:57.173733",
     "exception": false,
     "start_time": "2022-10-29T19:22:57.091915",
     "status": "completed"
    },
    "tags": []
   },
   "outputs": [],
   "source": [
    "data_path = Path(\"planet\", \"planet\")\n",
    "output_path = Path(\"artifacts\")\n",
    "output_path.mkdir(exist_ok=True)\n",
    "\n",
    "image_path = data_path / \"train-jpg\"\n",
    "    \n",
    "\n",
    "train_classes = pd.read_csv(data_path / \"train_classes.csv\")\n",
    "\n",
    "train_classes[\"tag\"] = (\n",
    "    train_classes[\"tags\"]\n",
    "    .apply(\n",
    "        lambda x: [tag for tag in x.split(\" \") if tag != \"selective_logging\"]\n",
    "    )\n",
    "    .apply(\n",
    "        lambda x: sorted(x)[-1]\n",
    "    )\n",
    ")\n",
    "\n",
    "train_labels = {\n",
    "    row[\"image_name\"]: row[\"tag\"] for i, row in train_classes.iterrows()\n",
    "}"
   ]
  },
  {
   "cell_type": "code",
   "execution_count": 15,
   "id": "de8f2c72",
   "metadata": {},
   "outputs": [
    {
     "data": {
      "text/plain": [
       "['clear',\n",
       " 'cloudy',\n",
       " 'cultivation',\n",
       " 'habitation',\n",
       " 'haze',\n",
       " 'partly_cloudy',\n",
       " 'primary',\n",
       " 'road',\n",
       " 'slash_burn',\n",
       " 'water']"
      ]
     },
     "execution_count": 15,
     "metadata": {},
     "output_type": "execute_result"
    }
   ],
   "source": [
    "sorted(train_classes[\"tag\"].unique())"
   ]
  },
  {
   "cell_type": "code",
   "execution_count": 3,
   "id": "20b8634d",
   "metadata": {
    "execution": {
     "iopub.execute_input": "2022-10-29T19:22:59.539109Z",
     "iopub.status.busy": "2022-10-29T19:22:59.538820Z",
     "iopub.status.idle": "2022-10-29T19:23:07.039261Z",
     "shell.execute_reply": "2022-10-29T19:23:07.038102Z"
    },
    "papermill": {
     "duration": 7.50772,
     "end_time": "2022-10-29T19:23:07.041981",
     "exception": false,
     "start_time": "2022-10-29T19:22:59.534261",
     "status": "completed"
    },
    "tags": []
   },
   "outputs": [],
   "source": [
    "from fastai.vision.all import *"
   ]
  },
  {
   "cell_type": "code",
   "execution_count": 4,
   "id": "5024cce5",
   "metadata": {},
   "outputs": [],
   "source": [
    "def label(file_name):\n",
    "    return train_labels[file_name.replace(\".jpg\", \"\")]"
   ]
  },
  {
   "cell_type": "code",
   "execution_count": 5,
   "id": "1ccfb8b0",
   "metadata": {},
   "outputs": [],
   "source": [
    "# Load exported model\n",
    "learn = load_learner(output_path / \"model.pkl\")"
   ]
  },
  {
   "cell_type": "code",
   "execution_count": 6,
   "id": "8f5f23d0",
   "metadata": {},
   "outputs": [
    {
     "data": {
      "text/html": [
       "\n",
       "<style>\n",
       "    /* Turns off some styling */\n",
       "    progress {\n",
       "        /* gets rid of default border in Firefox and Opera. */\n",
       "        border: none;\n",
       "        /* Needs to be in here for Safari polyfill so background images work as expected. */\n",
       "        background-size: auto;\n",
       "    }\n",
       "    progress:not([value]), progress:not([value])::-webkit-progress-bar {\n",
       "        background: repeating-linear-gradient(45deg, #7e7e7e, #7e7e7e 10px, #5c5c5c 10px, #5c5c5c 20px);\n",
       "    }\n",
       "    .progress-bar-interrupted, .progress-bar-interrupted::-webkit-progress-bar {\n",
       "        background: #F44336;\n",
       "    }\n",
       "</style>\n"
      ],
      "text/plain": [
       "<IPython.core.display.HTML object>"
      ]
     },
     "metadata": {},
     "output_type": "display_data"
    },
    {
     "data": {
      "text/html": [],
      "text/plain": [
       "<IPython.core.display.HTML object>"
      ]
     },
     "metadata": {},
     "output_type": "display_data"
    },
    {
     "data": {
      "text/plain": [
       "('primary',\n",
       " tensor(6),\n",
       " tensor([3.4738e-04, 1.0227e-03, 6.4591e-05, 1.1950e-04, 1.0738e-04, 2.1656e-04,\n",
       "         9.9546e-01, 1.2084e-03, 4.9242e-04, 9.6052e-04]))"
      ]
     },
     "execution_count": 6,
     "metadata": {},
     "output_type": "execute_result"
    }
   ],
   "source": [
    "image_name = \"train_0\"\n",
    "img = plt.imread(data_path / \"train-jpg\" / f\"{image_name}.jpg\")[:,:,:-1]\n",
    "# img = PILImage.create(img)\n",
    "learn.predict(img)\n"
   ]
  },
  {
   "cell_type": "code",
   "execution_count": 7,
   "id": "81fe4134",
   "metadata": {},
   "outputs": [
    {
     "data": {
      "application/vnd.jupyter.widget-view+json": {
       "model_id": "4dde9ae60cd041b2b39b7779937bbb7a",
       "version_major": 2,
       "version_minor": 0
      },
      "text/plain": [
       "VBox(children=(HTML(value='<center> <img\\nsrc=https://huggingface.co/front/assets/huggingface_logo-noborder.sv…"
      ]
     },
     "metadata": {},
     "output_type": "display_data"
    }
   ],
   "source": [
    "from huggingface_hub import notebook_login\n",
    "\n",
    "notebook_login()"
   ]
  },
  {
   "cell_type": "code",
   "execution_count": 8,
   "id": "3ae17846",
   "metadata": {},
   "outputs": [
    {
     "data": {
      "text/plain": [
       "'https://huggingface.co/davidmasip/deforestation_predatathon/tree/main/'"
      ]
     },
     "execution_count": 8,
     "metadata": {},
     "output_type": "execute_result"
    }
   ],
   "source": [
    "from huggingface_hub import push_to_hub_fastai\n",
    "\n",
    "repo_id = \"davidmasip/deforestation_predatathon\"\n",
    "\n",
    "push_to_hub_fastai(learner=learn, repo_id=repo_id)"
   ]
  },
  {
   "cell_type": "code",
   "execution_count": 9,
   "id": "19f36d5f",
   "metadata": {},
   "outputs": [
    {
     "data": {
      "application/vnd.jupyter.widget-view+json": {
       "model_id": "ac42057eecdd4d2aba75555a0406cc94",
       "version_major": 2,
       "version_minor": 0
      },
      "text/plain": [
       "Fetching 4 files:   0%|          | 0/4 [00:00<?, ?it/s]"
      ]
     },
     "metadata": {},
     "output_type": "display_data"
    },
    {
     "data": {
      "application/vnd.jupyter.widget-view+json": {
       "model_id": "d3bb1dabea7b47f2913fd0f1404b1c29",
       "version_major": 2,
       "version_minor": 0
      },
      "text/plain": [
       "Downloading:   0%|          | 0.00/23.1M [00:00<?, ?B/s]"
      ]
     },
     "metadata": {},
     "output_type": "display_data"
    }
   ],
   "source": [
    "from huggingface_hub import from_pretrained_fastai\n",
    "\n",
    "\n",
    "learner_hf = from_pretrained_fastai(repo_id)"
   ]
  },
  {
   "cell_type": "code",
   "execution_count": 10,
   "id": "9f3ae15a",
   "metadata": {},
   "outputs": [
    {
     "data": {
      "text/html": [
       "\n",
       "<style>\n",
       "    /* Turns off some styling */\n",
       "    progress {\n",
       "        /* gets rid of default border in Firefox and Opera. */\n",
       "        border: none;\n",
       "        /* Needs to be in here for Safari polyfill so background images work as expected. */\n",
       "        background-size: auto;\n",
       "    }\n",
       "    progress:not([value]), progress:not([value])::-webkit-progress-bar {\n",
       "        background: repeating-linear-gradient(45deg, #7e7e7e, #7e7e7e 10px, #5c5c5c 10px, #5c5c5c 20px);\n",
       "    }\n",
       "    .progress-bar-interrupted, .progress-bar-interrupted::-webkit-progress-bar {\n",
       "        background: #F44336;\n",
       "    }\n",
       "</style>\n"
      ],
      "text/plain": [
       "<IPython.core.display.HTML object>"
      ]
     },
     "metadata": {},
     "output_type": "display_data"
    },
    {
     "data": {
      "text/html": [],
      "text/plain": [
       "<IPython.core.display.HTML object>"
      ]
     },
     "metadata": {},
     "output_type": "display_data"
    },
    {
     "name": "stdout",
     "output_type": "stream",
     "text": [
      "tensor([3.4738e-04, 1.0227e-03, 6.4591e-05, 1.1950e-04, 1.0738e-04, 2.1656e-04,\n",
      "        9.9546e-01, 1.2084e-03, 4.9242e-04, 9.6052e-04])\n"
     ]
    }
   ],
   "source": [
    "_, _, probs = learn.predict(img)\n",
    "print(probs)\n"
   ]
  },
  {
   "cell_type": "code",
   "execution_count": 11,
   "id": "fa8542e5",
   "metadata": {},
   "outputs": [
    {
     "data": {
      "text/html": [
       "\n",
       "<style>\n",
       "    /* Turns off some styling */\n",
       "    progress {\n",
       "        /* gets rid of default border in Firefox and Opera. */\n",
       "        border: none;\n",
       "        /* Needs to be in here for Safari polyfill so background images work as expected. */\n",
       "        background-size: auto;\n",
       "    }\n",
       "    progress:not([value]), progress:not([value])::-webkit-progress-bar {\n",
       "        background: repeating-linear-gradient(45deg, #7e7e7e, #7e7e7e 10px, #5c5c5c 10px, #5c5c5c 20px);\n",
       "    }\n",
       "    .progress-bar-interrupted, .progress-bar-interrupted::-webkit-progress-bar {\n",
       "        background: #F44336;\n",
       "    }\n",
       "</style>\n"
      ],
      "text/plain": [
       "<IPython.core.display.HTML object>"
      ]
     },
     "metadata": {},
     "output_type": "display_data"
    },
    {
     "data": {
      "text/html": [],
      "text/plain": [
       "<IPython.core.display.HTML object>"
      ]
     },
     "metadata": {},
     "output_type": "display_data"
    },
    {
     "name": "stdout",
     "output_type": "stream",
     "text": [
      "tensor([3.4738e-04, 1.0227e-03, 6.4591e-05, 1.1950e-04, 1.0738e-04, 2.1656e-04,\n",
      "        9.9546e-01, 1.2084e-03, 4.9242e-04, 9.6052e-04])\n"
     ]
    }
   ],
   "source": [
    "_, _, probs = learner_hf.predict(img)\n",
    "print(probs)\n"
   ]
  },
  {
   "cell_type": "code",
   "execution_count": null,
   "id": "f7438994",
   "metadata": {},
   "outputs": [],
   "source": []
  }
 ],
 "metadata": {
  "kernelspec": {
   "display_name": "Python 3.9.0 ('deforestation')",
   "language": "python",
   "name": "python3"
  },
  "language_info": {
   "codemirror_mode": {
    "name": "ipython",
    "version": 3
   },
   "file_extension": ".py",
   "mimetype": "text/x-python",
   "name": "python",
   "nbconvert_exporter": "python",
   "pygments_lexer": "ipython3",
   "version": "3.9.0"
  },
  "papermill": {
   "default_parameters": {},
   "duration": 561.47777,
   "end_time": "2022-10-29T19:31:52.835729",
   "environment_variables": {},
   "exception": null,
   "input_path": "__notebook__.ipynb",
   "output_path": "__notebook__.ipynb",
   "parameters": {},
   "start_time": "2022-10-29T19:22:31.357959",
   "version": "2.3.4"
  },
  "vscode": {
   "interpreter": {
    "hash": "1d0e55ce1978d0c6a59481fa923a862ac0d14782f13bdc1fb8929e5e67b781bf"
   }
  }
 },
 "nbformat": 4,
 "nbformat_minor": 5
}
