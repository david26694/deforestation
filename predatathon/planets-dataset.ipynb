{
 "cells": [
  {
   "cell_type": "code",
   "execution_count": 1,
   "id": "9583ccc8",
   "metadata": {
    "_cell_guid": "b1076dfc-b9ad-4769-8c92-a6c4dae69d19",
    "_uuid": "8f2839f25d086af736a60e9eeb907d3b93b6e0e5",
    "execution": {
     "iopub.execute_input": "2022-10-29T19:22:42.588371Z",
     "iopub.status.busy": "2022-10-29T19:22:42.587577Z",
     "iopub.status.idle": "2022-10-29T19:22:42.600174Z",
     "shell.execute_reply": "2022-10-29T19:22:42.599273Z"
    },
    "papermill": {
     "duration": 0.020804,
     "end_time": "2022-10-29T19:22:42.602533",
     "exception": false,
     "start_time": "2022-10-29T19:22:42.581729",
     "status": "completed"
    },
    "tags": []
   },
   "outputs": [],
   "source": [
    "import pandas as pd # data processing, CSV file I/O (e.g. pd.read_csv)"
   ]
  },
  {
   "cell_type": "code",
   "execution_count": 3,
   "id": "e97ff48f",
   "metadata": {
    "execution": {
     "iopub.execute_input": "2022-10-29T19:22:57.096928Z",
     "iopub.status.busy": "2022-10-29T19:22:57.096600Z",
     "iopub.status.idle": "2022-10-29T19:22:57.171390Z",
     "shell.execute_reply": "2022-10-29T19:22:57.170295Z"
    },
    "papermill": {
     "duration": 0.081818,
     "end_time": "2022-10-29T19:22:57.173733",
     "exception": false,
     "start_time": "2022-10-29T19:22:57.091915",
     "status": "completed"
    },
    "tags": []
   },
   "outputs": [],
   "source": [
    "train_classes = pd.read_csv(\"/kaggle/input/planets-dataset/planet/planet/train_classes.csv\")"
   ]
  },
  {
   "cell_type": "code",
   "execution_count": 4,
   "id": "0b0c37bc",
   "metadata": {
    "execution": {
     "iopub.execute_input": "2022-10-29T19:22:57.182355Z",
     "iopub.status.busy": "2022-10-29T19:22:57.182064Z",
     "iopub.status.idle": "2022-10-29T19:22:57.225469Z",
     "shell.execute_reply": "2022-10-29T19:22:57.224344Z"
    },
    "papermill": {
     "duration": 0.050089,
     "end_time": "2022-10-29T19:22:57.227480",
     "exception": false,
     "start_time": "2022-10-29T19:22:57.177391",
     "status": "completed"
    },
    "tags": []
   },
   "outputs": [],
   "source": [
    "train_classes[\"tag\"] = train_classes[\"tags\"].apply(lambda x: sorted(x.split(\" \"))[-1])"
   ]
  },
  {
   "cell_type": "code",
   "execution_count": 5,
   "id": "78807127",
   "metadata": {
    "execution": {
     "iopub.execute_input": "2022-10-29T19:22:57.235670Z",
     "iopub.status.busy": "2022-10-29T19:22:57.235407Z",
     "iopub.status.idle": "2022-10-29T19:22:59.496200Z",
     "shell.execute_reply": "2022-10-29T19:22:59.495197Z"
    },
    "papermill": {
     "duration": 2.267998,
     "end_time": "2022-10-29T19:22:59.498752",
     "exception": false,
     "start_time": "2022-10-29T19:22:57.230754",
     "status": "completed"
    },
    "tags": []
   },
   "outputs": [],
   "source": [
    "train_labels = {\n",
    "    row[\"image_name\"]: row[\"tag\"] for i, row in train_classes.iterrows()\n",
    "}"
   ]
  },
  {
   "cell_type": "code",
   "execution_count": 6,
   "id": "a948f431",
   "metadata": {
    "execution": {
     "iopub.execute_input": "2022-10-29T19:22:59.509002Z",
     "iopub.status.busy": "2022-10-29T19:22:59.507436Z",
     "iopub.status.idle": "2022-10-29T19:22:59.528505Z",
     "shell.execute_reply": "2022-10-29T19:22:59.527440Z"
    },
    "papermill": {
     "duration": 0.028005,
     "end_time": "2022-10-29T19:22:59.530552",
     "exception": false,
     "start_time": "2022-10-29T19:22:59.502547",
     "status": "completed"
    },
    "tags": []
   },
   "outputs": [
    {
     "data": {
      "text/plain": [
       "primary              24548\n",
       "water                 7411\n",
       "road                  5784\n",
       "cloudy                2089\n",
       "selective_logging      291\n",
       "slash_burn             185\n",
       "clear                  127\n",
       "partly_cloudy           23\n",
       "haze                    12\n",
       "habitation               7\n",
       "cultivation              2\n",
       "Name: tag, dtype: int64"
      ]
     },
     "execution_count": 6,
     "metadata": {},
     "output_type": "execute_result"
    }
   ],
   "source": [
    "train_classes.tag.value_counts()"
   ]
  },
  {
   "cell_type": "code",
   "execution_count": 7,
   "id": "20b8634d",
   "metadata": {
    "execution": {
     "iopub.execute_input": "2022-10-29T19:22:59.539109Z",
     "iopub.status.busy": "2022-10-29T19:22:59.538820Z",
     "iopub.status.idle": "2022-10-29T19:23:07.039261Z",
     "shell.execute_reply": "2022-10-29T19:23:07.038102Z"
    },
    "papermill": {
     "duration": 7.50772,
     "end_time": "2022-10-29T19:23:07.041981",
     "exception": false,
     "start_time": "2022-10-29T19:22:59.534261",
     "status": "completed"
    },
    "tags": []
   },
   "outputs": [],
   "source": [
    "from fastai.vision.all import *\n",
    "\n",
    "path = Path(\"/kaggle\", \"input\", \"planets-dataset\", \"planet\", \"planet\", \"train-jpg\")"
   ]
  },
  {
   "cell_type": "code",
   "execution_count": 8,
   "id": "26c43d66",
   "metadata": {
    "execution": {
     "iopub.execute_input": "2022-10-29T19:23:07.051628Z",
     "iopub.status.busy": "2022-10-29T19:23:07.050862Z",
     "iopub.status.idle": "2022-10-29T19:23:07.055990Z",
     "shell.execute_reply": "2022-10-29T19:23:07.054777Z"
    },
    "papermill": {
     "duration": 0.012491,
     "end_time": "2022-10-29T19:23:07.058458",
     "exception": false,
     "start_time": "2022-10-29T19:23:07.045967",
     "status": "completed"
    },
    "tags": []
   },
   "outputs": [],
   "source": [
    "def label(file_name):\n",
    "    return train_labels[file_name.replace(\".jpg\", \"\")]\n",
    "    "
   ]
  },
  {
   "cell_type": "code",
   "execution_count": 9,
   "id": "d3ed6cbf",
   "metadata": {
    "execution": {
     "iopub.execute_input": "2022-10-29T19:23:07.066629Z",
     "iopub.status.busy": "2022-10-29T19:23:07.066370Z",
     "iopub.status.idle": "2022-10-29T19:23:07.071912Z",
     "shell.execute_reply": "2022-10-29T19:23:07.071055Z"
    },
    "papermill": {
     "duration": 0.011832,
     "end_time": "2022-10-29T19:23:07.073799",
     "exception": false,
     "start_time": "2022-10-29T19:23:07.061967",
     "status": "completed"
    },
    "tags": []
   },
   "outputs": [
    {
     "data": {
      "text/plain": [
       "'primary'"
      ]
     },
     "execution_count": 9,
     "metadata": {},
     "output_type": "execute_result"
    }
   ],
   "source": [
    "label(\"train_30370.jpg\")"
   ]
  },
  {
   "cell_type": "code",
   "execution_count": 10,
   "id": "6eeb0a85",
   "metadata": {
    "execution": {
     "iopub.execute_input": "2022-10-29T19:23:07.083300Z",
     "iopub.status.busy": "2022-10-29T19:23:07.082265Z",
     "iopub.status.idle": "2022-10-29T19:31:49.126332Z",
     "shell.execute_reply": "2022-10-29T19:31:49.123953Z"
    },
    "papermill": {
     "duration": 522.052971,
     "end_time": "2022-10-29T19:31:49.130795",
     "exception": false,
     "start_time": "2022-10-29T19:23:07.077824",
     "status": "completed"
    },
    "tags": []
   },
   "outputs": [
    {
     "data": {
      "text/html": [
       "\n",
       "<style>\n",
       "    /* Turns off some styling */\n",
       "    progress {\n",
       "        /* gets rid of default border in Firefox and Opera. */\n",
       "        border: none;\n",
       "        /* Needs to be in here for Safari polyfill so background images work as expected. */\n",
       "        background-size: auto;\n",
       "    }\n",
       "    progress:not([value]), progress:not([value])::-webkit-progress-bar {\n",
       "        background: repeating-linear-gradient(45deg, #7e7e7e, #7e7e7e 10px, #5c5c5c 10px, #5c5c5c 20px);\n",
       "    }\n",
       "    .progress-bar-interrupted, .progress-bar-interrupted::-webkit-progress-bar {\n",
       "        background: #F44336;\n",
       "    }\n",
       "</style>\n"
      ],
      "text/plain": [
       "<IPython.core.display.HTML object>"
      ]
     },
     "metadata": {},
     "output_type": "display_data"
    },
    {
     "data": {
      "text/html": [
       "<table border=\"1\" class=\"dataframe\">\n",
       "  <thead>\n",
       "    <tr style=\"text-align: left;\">\n",
       "      <th>epoch</th>\n",
       "      <th>train_loss</th>\n",
       "      <th>valid_loss</th>\n",
       "      <th>error_rate</th>\n",
       "      <th>time</th>\n",
       "    </tr>\n",
       "  </thead>\n",
       "  <tbody>\n",
       "    <tr>\n",
       "      <td>0</td>\n",
       "      <td>0.668901</td>\n",
       "      <td>0.500663</td>\n",
       "      <td>0.159975</td>\n",
       "      <td>04:23</td>\n",
       "    </tr>\n",
       "  </tbody>\n",
       "</table>"
      ],
      "text/plain": [
       "<IPython.core.display.HTML object>"
      ]
     },
     "metadata": {},
     "output_type": "display_data"
    },
    {
     "data": {
      "text/html": [
       "\n",
       "<style>\n",
       "    /* Turns off some styling */\n",
       "    progress {\n",
       "        /* gets rid of default border in Firefox and Opera. */\n",
       "        border: none;\n",
       "        /* Needs to be in here for Safari polyfill so background images work as expected. */\n",
       "        background-size: auto;\n",
       "    }\n",
       "    progress:not([value]), progress:not([value])::-webkit-progress-bar {\n",
       "        background: repeating-linear-gradient(45deg, #7e7e7e, #7e7e7e 10px, #5c5c5c 10px, #5c5c5c 20px);\n",
       "    }\n",
       "    .progress-bar-interrupted, .progress-bar-interrupted::-webkit-progress-bar {\n",
       "        background: #F44336;\n",
       "    }\n",
       "</style>\n"
      ],
      "text/plain": [
       "<IPython.core.display.HTML object>"
      ]
     },
     "metadata": {},
     "output_type": "display_data"
    },
    {
     "data": {
      "text/html": [
       "<table border=\"1\" class=\"dataframe\">\n",
       "  <thead>\n",
       "    <tr style=\"text-align: left;\">\n",
       "      <th>epoch</th>\n",
       "      <th>train_loss</th>\n",
       "      <th>valid_loss</th>\n",
       "      <th>error_rate</th>\n",
       "      <th>time</th>\n",
       "    </tr>\n",
       "  </thead>\n",
       "  <tbody>\n",
       "    <tr>\n",
       "      <td>0</td>\n",
       "      <td>0.428547</td>\n",
       "      <td>0.390753</td>\n",
       "      <td>0.132057</td>\n",
       "      <td>03:46</td>\n",
       "    </tr>\n",
       "  </tbody>\n",
       "</table>"
      ],
      "text/plain": [
       "<IPython.core.display.HTML object>"
      ]
     },
     "metadata": {},
     "output_type": "display_data"
    }
   ],
   "source": [
    "dls = ImageDataLoaders.from_name_func(\n",
    "    path, get_image_files(path), valid_pct=0.2,\n",
    "    label_func=lambda x: label(x), item_tfms=Resize(224))\n",
    "    \n",
    "# if a string is passed into the model argument, it will now use timm (if it is installed)\n",
    "learn = vision_learner(dls, 'vit_tiny_patch16_224', metrics=error_rate)\n",
    "\n",
    "learn.fine_tune(1)"
   ]
  },
  {
   "cell_type": "code",
   "execution_count": null,
   "id": "d883b1e7",
   "metadata": {
    "papermill": {
     "duration": 0.004616,
     "end_time": "2022-10-29T19:31:49.140317",
     "exception": false,
     "start_time": "2022-10-29T19:31:49.135701",
     "status": "completed"
    },
    "tags": []
   },
   "outputs": [],
   "source": []
  }
 ],
 "metadata": {
  "kernelspec": {
   "display_name": "Python 3.8.6 64-bit ('3.8.6')",
   "language": "python",
   "name": "python3"
  },
  "language_info": {
   "codemirror_mode": {
    "name": "ipython",
    "version": 3
   },
   "file_extension": ".py",
   "mimetype": "text/x-python",
   "name": "python",
   "nbconvert_exporter": "python",
   "pygments_lexer": "ipython3",
   "version": "3.8.6"
  },
  "papermill": {
   "default_parameters": {},
   "duration": 561.47777,
   "end_time": "2022-10-29T19:31:52.835729",
   "environment_variables": {},
   "exception": null,
   "input_path": "__notebook__.ipynb",
   "output_path": "__notebook__.ipynb",
   "parameters": {},
   "start_time": "2022-10-29T19:22:31.357959",
   "version": "2.3.4"
  },
  "vscode": {
   "interpreter": {
    "hash": "45c602e45a0b97f793a7f5702d36e3233773ad70a44036aa395afb0e37bae7a4"
   }
  }
 },
 "nbformat": 4,
 "nbformat_minor": 5
}
