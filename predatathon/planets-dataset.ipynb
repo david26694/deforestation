{
 "cells": [
  {
   "cell_type": "code",
   "execution_count": null,
   "id": "9583ccc8",
   "metadata": {
    "_cell_guid": "b1076dfc-b9ad-4769-8c92-a6c4dae69d19",
    "_uuid": "8f2839f25d086af736a60e9eeb907d3b93b6e0e5",
    "execution": {
     "iopub.execute_input": "2022-10-29T19:22:42.588371Z",
     "iopub.status.busy": "2022-10-29T19:22:42.587577Z",
     "iopub.status.idle": "2022-10-29T19:22:42.600174Z",
     "shell.execute_reply": "2022-10-29T19:22:42.599273Z"
    },
    "papermill": {
     "duration": 0.020804,
     "end_time": "2022-10-29T19:22:42.602533",
     "exception": false,
     "start_time": "2022-10-29T19:22:42.581729",
     "status": "completed"
    },
    "tags": []
   },
   "outputs": [],
   "source": [
    "import pandas as pd # data processing, CSV file I/O (e.g. pd.read_csv)\n",
    "from pathlib import Path\n",
    "import matplotlib.pyplot as plt"
   ]
  },
  {
   "cell_type": "code",
   "execution_count": null,
   "id": "e97ff48f",
   "metadata": {
    "execution": {
     "iopub.execute_input": "2022-10-29T19:22:57.096928Z",
     "iopub.status.busy": "2022-10-29T19:22:57.096600Z",
     "iopub.status.idle": "2022-10-29T19:22:57.171390Z",
     "shell.execute_reply": "2022-10-29T19:22:57.170295Z"
    },
    "papermill": {
     "duration": 0.081818,
     "end_time": "2022-10-29T19:22:57.173733",
     "exception": false,
     "start_time": "2022-10-29T19:22:57.091915",
     "status": "completed"
    },
    "tags": []
   },
   "outputs": [],
   "source": [
    "if Path(\"/kaggle\").exists():\n",
    "    data_path = Path(\"/kaggle\", \"input\", \"planets-dataset\", \"planet\", \"planet\")\n",
    "else:\n",
    "    data_path = Path(\"planet\", \"planet\")\n",
    "\n",
    "image_path = data_path / \"train-jpg\"\n",
    "    \n",
    "\n",
    "train_classes = pd.read_csv(data_path / \"train_classes.csv\")"
   ]
  },
  {
   "cell_type": "code",
   "execution_count": null,
   "id": "0b0c37bc",
   "metadata": {
    "execution": {
     "iopub.execute_input": "2022-10-29T19:22:57.182355Z",
     "iopub.status.busy": "2022-10-29T19:22:57.182064Z",
     "iopub.status.idle": "2022-10-29T19:22:57.225469Z",
     "shell.execute_reply": "2022-10-29T19:22:57.224344Z"
    },
    "papermill": {
     "duration": 0.050089,
     "end_time": "2022-10-29T19:22:57.227480",
     "exception": false,
     "start_time": "2022-10-29T19:22:57.177391",
     "status": "completed"
    },
    "tags": []
   },
   "outputs": [],
   "source": [
    "train_classes[\"tag\"] = (\n",
    "    train_classes[\"tags\"]\n",
    "    .apply(\n",
    "        lambda x: [tag for tag in x.split(\" \") if tag != \"selective_logging\"]\n",
    "    )\n",
    "    .apply(\n",
    "        lambda x: sorted(x)[-1]\n",
    "    )\n",
    ")"
   ]
  },
  {
   "cell_type": "code",
   "execution_count": null,
   "id": "78807127",
   "metadata": {
    "execution": {
     "iopub.execute_input": "2022-10-29T19:22:57.235670Z",
     "iopub.status.busy": "2022-10-29T19:22:57.235407Z",
     "iopub.status.idle": "2022-10-29T19:22:59.496200Z",
     "shell.execute_reply": "2022-10-29T19:22:59.495197Z"
    },
    "papermill": {
     "duration": 2.267998,
     "end_time": "2022-10-29T19:22:59.498752",
     "exception": false,
     "start_time": "2022-10-29T19:22:57.230754",
     "status": "completed"
    },
    "tags": []
   },
   "outputs": [],
   "source": [
    "train_labels = {\n",
    "    row[\"image_name\"]: row[\"tag\"] for i, row in train_classes.iterrows()\n",
    "}"
   ]
  },
  {
   "cell_type": "code",
   "execution_count": null,
   "id": "a948f431",
   "metadata": {
    "execution": {
     "iopub.execute_input": "2022-10-29T19:22:59.509002Z",
     "iopub.status.busy": "2022-10-29T19:22:59.507436Z",
     "iopub.status.idle": "2022-10-29T19:22:59.528505Z",
     "shell.execute_reply": "2022-10-29T19:22:59.527440Z"
    },
    "papermill": {
     "duration": 0.028005,
     "end_time": "2022-10-29T19:22:59.530552",
     "exception": false,
     "start_time": "2022-10-29T19:22:59.502547",
     "status": "completed"
    },
    "tags": []
   },
   "outputs": [],
   "source": [
    "train_classes.tag.value_counts()"
   ]
  },
  {
   "cell_type": "code",
   "execution_count": null,
   "id": "06b9540f",
   "metadata": {},
   "outputs": [],
   "source": [
    "train_classes.query(\"tag == 'cloudy'\").head()"
   ]
  },
  {
   "cell_type": "code",
   "execution_count": null,
   "id": "54b3e289",
   "metadata": {},
   "outputs": [],
   "source": [
    "def show_image(image_name):\n",
    "    img = plt.imread(data_path / \"train-jpg\" / f\"{image_name}.jpg\")\n",
    "    # Add label as title\n",
    "    plt.title(train_labels[image_name])\n",
    "    plt.imshow(img)\n",
    "    plt.axis(\"off\")\n",
    "    plt.show()"
   ]
  },
  {
   "cell_type": "code",
   "execution_count": null,
   "id": "9243df41",
   "metadata": {},
   "outputs": [],
   "source": [
    "show_image(\"train_0\")"
   ]
  },
  {
   "cell_type": "code",
   "execution_count": null,
   "id": "a362db88",
   "metadata": {},
   "outputs": [],
   "source": [
    "show_image(\"train_4\")"
   ]
  },
  {
   "cell_type": "code",
   "execution_count": null,
   "id": "324d4110",
   "metadata": {},
   "outputs": [],
   "source": [
    "show_image(\"train_1\")"
   ]
  },
  {
   "cell_type": "code",
   "execution_count": null,
   "id": "ea7696e4",
   "metadata": {},
   "outputs": [],
   "source": [
    "show_image(\"train_12\")"
   ]
  },
  {
   "cell_type": "code",
   "execution_count": null,
   "id": "20b8634d",
   "metadata": {
    "execution": {
     "iopub.execute_input": "2022-10-29T19:22:59.539109Z",
     "iopub.status.busy": "2022-10-29T19:22:59.538820Z",
     "iopub.status.idle": "2022-10-29T19:23:07.039261Z",
     "shell.execute_reply": "2022-10-29T19:23:07.038102Z"
    },
    "papermill": {
     "duration": 7.50772,
     "end_time": "2022-10-29T19:23:07.041981",
     "exception": false,
     "start_time": "2022-10-29T19:22:59.534261",
     "status": "completed"
    },
    "tags": []
   },
   "outputs": [],
   "source": [
    "from fastai.vision.all import *"
   ]
  },
  {
   "cell_type": "code",
   "execution_count": null,
   "id": "26c43d66",
   "metadata": {
    "execution": {
     "iopub.execute_input": "2022-10-29T19:23:07.051628Z",
     "iopub.status.busy": "2022-10-29T19:23:07.050862Z",
     "iopub.status.idle": "2022-10-29T19:23:07.055990Z",
     "shell.execute_reply": "2022-10-29T19:23:07.054777Z"
    },
    "papermill": {
     "duration": 0.012491,
     "end_time": "2022-10-29T19:23:07.058458",
     "exception": false,
     "start_time": "2022-10-29T19:23:07.045967",
     "status": "completed"
    },
    "tags": []
   },
   "outputs": [],
   "source": [
    "def label(file_name):\n",
    "    return train_labels[file_name.replace(\".jpg\", \"\")]"
   ]
  },
  {
   "cell_type": "code",
   "execution_count": null,
   "id": "d3ed6cbf",
   "metadata": {
    "execution": {
     "iopub.execute_input": "2022-10-29T19:23:07.066629Z",
     "iopub.status.busy": "2022-10-29T19:23:07.066370Z",
     "iopub.status.idle": "2022-10-29T19:23:07.071912Z",
     "shell.execute_reply": "2022-10-29T19:23:07.071055Z"
    },
    "papermill": {
     "duration": 0.011832,
     "end_time": "2022-10-29T19:23:07.073799",
     "exception": false,
     "start_time": "2022-10-29T19:23:07.061967",
     "status": "completed"
    },
    "tags": []
   },
   "outputs": [],
   "source": [
    "label(\"train_30370.jpg\")"
   ]
  },
  {
   "cell_type": "code",
   "execution_count": null,
   "id": "6eeb0a85",
   "metadata": {
    "execution": {
     "iopub.execute_input": "2022-10-29T19:23:07.083300Z",
     "iopub.status.busy": "2022-10-29T19:23:07.082265Z",
     "iopub.status.idle": "2022-10-29T19:31:49.126332Z",
     "shell.execute_reply": "2022-10-29T19:31:49.123953Z"
    },
    "papermill": {
     "duration": 522.052971,
     "end_time": "2022-10-29T19:31:49.130795",
     "exception": false,
     "start_time": "2022-10-29T19:23:07.077824",
     "status": "completed"
    },
    "tags": []
   },
   "outputs": [],
   "source": [
    "dls = ImageDataLoaders.from_name_func(\n",
    "    image_path, get_image_files(image_path), valid_pct=0.2,\n",
    "    seed=42, label_func=label, item_tfms=Resize(224), loss_func=CrossEntropyLossFlat())\n",
    "    \n",
    "# if a string is passed into the model argument, it will now use timm (if it is installed)\n",
    "learn = vision_learner(dls, 'vit_tiny_patch16_224')"
   ]
  },
  {
   "cell_type": "code",
   "execution_count": null,
   "id": "d883b1e7",
   "metadata": {
    "papermill": {
     "duration": 0.004616,
     "end_time": "2022-10-29T19:31:49.140317",
     "exception": false,
     "start_time": "2022-10-29T19:31:49.135701",
     "status": "completed"
    },
    "tags": []
   },
   "outputs": [],
   "source": [
    "learn.remove_cb(ProgressCallback)"
   ]
  },
  {
   "cell_type": "code",
   "execution_count": null,
   "id": "22293e34",
   "metadata": {},
   "outputs": [],
   "source": [
    "# learn.fit(1, cbs=ShortEpochCallback(short_valid=False, pct=0.000001))"
   ]
  },
  {
   "cell_type": "code",
   "execution_count": null,
   "id": "1ccfb8b0",
   "metadata": {},
   "outputs": [],
   "source": [
    "# Export learned model in predatathon folder\n",
    "(image_path / \"outputs\").mkdir(exist_ok=True)\n",
    "learn.export(\"outputs/planets.pkl\")\n",
    "\n",
    "\n",
    "# Load exported model\n",
    "learn_3 = load_learner(image_path / \"outputs/planets.pkl\")"
   ]
  },
  {
   "cell_type": "code",
   "execution_count": null,
   "id": "8f5f23d0",
   "metadata": {},
   "outputs": [],
   "source": [
    "image_name = \"train_0\"\n",
    "img = plt.imread(data_path / \"train-jpg\" / f\"{image_name}.jpg\")[:,:,:-1]\n",
    "# img = PILImage.create(img)\n",
    "learn.predict(img)\n"
   ]
  },
  {
   "cell_type": "code",
   "execution_count": null,
   "id": "247a98d4",
   "metadata": {},
   "outputs": [],
   "source": [
    "learn_3.predict(img)"
   ]
  },
  {
   "cell_type": "code",
   "execution_count": null,
   "id": "81fe4134",
   "metadata": {},
   "outputs": [],
   "source": [
    "from huggingface_hub import notebook_login\n",
    "\n",
    "notebook_login()"
   ]
  },
  {
   "cell_type": "code",
   "execution_count": null,
   "id": "3ae17846",
   "metadata": {},
   "outputs": [],
   "source": [
    "from huggingface_hub import push_to_hub_fastai\n",
    "\n",
    "repo_id = \"davidmasip/deforestation_predatathon\"\n",
    "\n",
    "push_to_hub_fastai(learner=learn, repo_id=repo_id)"
   ]
  },
  {
   "cell_type": "code",
   "execution_count": null,
   "id": "19f36d5f",
   "metadata": {},
   "outputs": [],
   "source": [
    "from huggingface_hub import from_pretrained_fastai\n",
    "\n",
    "\n",
    "learner_2 = from_pretrained_fastai(repo_id)"
   ]
  },
  {
   "cell_type": "code",
   "execution_count": null,
   "id": "9f3ae15a",
   "metadata": {},
   "outputs": [],
   "source": [
    "_, _, probs = learn.predict(img[:,:,:-1])\n",
    "print(f\"Probability it's a cat: {100 * probs[1].item():.2f}%\")\n"
   ]
  },
  {
   "cell_type": "code",
   "execution_count": null,
   "id": "b3eaf278",
   "metadata": {},
   "outputs": [],
   "source": [
    "img"
   ]
  },
  {
   "cell_type": "code",
   "execution_count": null,
   "id": "fa8542e5",
   "metadata": {},
   "outputs": [],
   "source": []
  }
 ],
 "metadata": {
  "kernelspec": {
   "display_name": "Python 3.9.0 ('deforestation')",
   "language": "python",
   "name": "python3"
  },
  "language_info": {
   "codemirror_mode": {
    "name": "ipython",
    "version": 3
   },
   "file_extension": ".py",
   "mimetype": "text/x-python",
   "name": "python",
   "nbconvert_exporter": "python",
   "pygments_lexer": "ipython3",
   "version": "3.9.0"
  },
  "papermill": {
   "default_parameters": {},
   "duration": 561.47777,
   "end_time": "2022-10-29T19:31:52.835729",
   "environment_variables": {},
   "exception": null,
   "input_path": "__notebook__.ipynb",
   "output_path": "__notebook__.ipynb",
   "parameters": {},
   "start_time": "2022-10-29T19:22:31.357959",
   "version": "2.3.4"
  },
  "vscode": {
   "interpreter": {
    "hash": "1d0e55ce1978d0c6a59481fa923a862ac0d14782f13bdc1fb8929e5e67b781bf"
   }
  }
 },
 "nbformat": 4,
 "nbformat_minor": 5
}
