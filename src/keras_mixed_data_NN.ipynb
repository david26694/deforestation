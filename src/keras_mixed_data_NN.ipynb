{
 "cells": [
  {
   "cell_type": "markdown",
   "metadata": {},
   "source": [
    "# Multi input Keras Neural net - Image + Tabular data"
   ]
  },
  {
   "cell_type": "markdown",
   "metadata": {},
   "source": [
    "This was trained in Google colab, so to access the data, it had to be uploaded to Google Drive and reached with the following snippet:"
   ]
  },
  {
   "cell_type": "code",
   "execution_count": 1,
   "metadata": {
    "colab": {
     "base_uri": "https://localhost:8080/"
    },
    "id": "L2tobKA5IVJn",
    "outputId": "6ccd8a7a-942b-4736-98f7-7fe3a9e3d3ae"
   },
   "outputs": [
    {
     "name": "stdout",
     "output_type": "stream",
     "text": [
      "Drive already mounted at /content/drive; to attempt to forcibly remount, call drive.mount(\"/content/drive\", force_remount=True).\n"
     ]
    }
   ],
   "source": [
    "from google.colab import drive\n",
    "drive.mount('/content/drive')"
   ]
  },
  {
   "cell_type": "code",
   "execution_count": 2,
   "metadata": {
    "id": "srqISuhxIVMf"
   },
   "outputs": [],
   "source": [
    "import numpy as np\n",
    "import matplotlib.pyplot as plt\n",
    "import random\n",
    "import pandas as pd\n",
    "import os\n",
    "from PIL import Image\n",
    "\n",
    "from tensorflow import keras as ks\n",
    "from tensorflow.keras.preprocessing.image import ImageDataGenerator\n",
    "from tensorflow.keras.callbacks import EarlyStopping\n",
    "import keras.backend as K\n",
    "import tensorflow as tf\n",
    "from tensorflow.keras.applications.resnet50 import preprocess_input\n",
    "\n",
    "import numpy as np\n",
    "import tensorflow as tf\n",
    "from tensorflow import keras\n",
    "from keras import layers\n",
    "from tensorflow.keras.layers import Input, Dense, concatenate, Flatten\n",
    "from tensorflow.keras.models import Model\n",
    "from tensorflow.keras.utils import plot_model"
   ]
  },
  {
   "cell_type": "code",
   "execution_count": 3,
   "metadata": {
    "id": "5mEZDkbRKiyB"
   },
   "outputs": [],
   "source": [
    "# Paths in GDrive\n",
    "\n",
    "path = \"drive/MyDrive/\"\n",
    "deforestation_folder = \"deforestation_train_test_data/\""
   ]
  },
  {
   "cell_type": "markdown",
   "metadata": {},
   "source": [
    "## Data preprocessing"
   ]
  },
  {
   "cell_type": "code",
   "execution_count": 4,
   "metadata": {
    "id": "_OH45AOwKi3N"
   },
   "outputs": [],
   "source": [
    "# Loading the labels and tabular data\n",
    "\n",
    "df_train = pd.read_csv(path+deforestation_folder+\"train.csv\")\n",
    "df_train_folds = pd.read_csv(path+deforestation_folder+\"train_folds.csv\")\n"
   ]
  },
  {
   "cell_type": "code",
   "execution_count": 5,
   "metadata": {
    "id": "wAVGb_C9ZLCk"
   },
   "outputs": [],
   "source": [
    "df_train = df_train.merge(df_train_folds, on=\"example_path\")"
   ]
  },
  {
   "cell_type": "code",
   "execution_count": 6,
   "metadata": {
    "id": "BvnRNbf0Ki53"
   },
   "outputs": [],
   "source": [
    "df_train[\"example_path\"] = df_train.apply(lambda x: x[\"example_path\"].replace(\"train_test_data\", \"deforestation_train_test_data\"), axis=1)"
   ]
  },
  {
   "cell_type": "code",
   "execution_count": 7,
   "metadata": {
    "colab": {
     "base_uri": "https://localhost:8080/",
     "height": 280
    },
    "id": "Adz0OAaSImPi",
    "outputId": "72ac2ef2-5139-404a-eb67-69d53497f822"
   },
   "outputs": [
    {
     "data": {
      "text/plain": [
       "<matplotlib.axes._subplots.AxesSubplot at 0x7f7025ea2350>"
      ]
     },
     "execution_count": 7,
     "metadata": {},
     "output_type": "execute_result"
    },
    {
     "data": {
      "image/png": "[encoded data removed]",
      "text/plain": [
       "<Figure size 432x288 with 1 Axes>"
      ]
     },
     "metadata": {
      "needs_background": "light"
     },
     "output_type": "display_data"
    }
   ],
   "source": [
    "df_train['label'].value_counts().plot.bar()"
   ]
  },
  {
   "cell_type": "markdown",
   "metadata": {},
   "source": [
    "Here we do two things:\n",
    "\n",
    "- Load all the images, and convert them into numpy array format\n",
    "- Resize them to 224x224 (As the ResNet50 pretrained on image net had this input size)"
   ]
  },
  {
   "cell_type": "code",
   "execution_count": null,
   "metadata": {
    "id": "1sR6ite5P6Z3"
   },
   "outputs": [],
   "source": [
    "\n",
    "X = []\n",
    "\n",
    "for i, row in df_train.iterrows():\n",
    "    print(i)\n",
    "    im = Image.open(path + row.example_path).resize((224,224))\n",
    "    image_array = np.asarray(im)\n",
    "    X.append(image_array)\n",
    "\n",
    "X = np.array(X)\n",
    "\n",
    "np.save(path+deforestation_folder+\"/X_224.npy\", X)\n",
    "\n",
    "# X = np.load(path+deforestation_folder+\"/X_224.npy\")"
   ]
  },
  {
   "cell_type": "markdown",
   "metadata": {},
   "source": [
    "This here is super important!!! It applies the same preprocessing that was applied to imagenet when resnet50 was trained - If the same is not done to our data, the network does not perform well at all"
   ]
  },
  {
   "cell_type": "code",
   "execution_count": 9,
   "metadata": {
    "id": "gwAihoKq55Ud"
   },
   "outputs": [],
   "source": [
    "X = preprocess_input(X)\n"
   ]
  },
  {
   "cell_type": "code",
   "execution_count": 10,
   "metadata": {
    "id": "NobGyIbYRs_Q"
   },
   "outputs": [],
   "source": [
    "y = df_train.label"
   ]
  },
  {
   "cell_type": "code",
   "execution_count": 11,
   "metadata": {
    "id": "tns3ke7pZ9OS"
   },
   "outputs": [],
   "source": [
    "X_train = X[df_train[df_train.fold!=0].index]\n",
    "X_val = X[df_train[df_train.fold==0].index]\n",
    "\n",
    "X_train_tabular = np.array(df_train[df_train.fold!=0][[\"latitude\", \"longitude\", \"year\"]])\n",
    "X_val_tabular = np.array(df_train[df_train.fold==0][[\"latitude\", \"longitude\", \"year\"]])"
   ]
  },
  {
   "cell_type": "code",
   "execution_count": 12,
   "metadata": {
    "colab": {
     "base_uri": "https://localhost:8080/"
    },
    "id": "MvwhXEz-oqWJ",
    "outputId": "fa44afc6-3145-4a24-931b-fdaa4e3683f6"
   },
   "outputs": [
    {
     "data": {
      "text/plain": [
       "array([[-2.05185262e+00,  1.11826093e+02,  2.00100000e+03],\n",
       "       [ 1.22325629e+00,  1.00702217e+02,  2.01400000e+03],\n",
       "       [-1.26555334e-01,  1.01758175e+02,  2.01100000e+03],\n",
       "       ...,\n",
       "       [ 3.81946392e+00,  1.17636112e+02,  2.01600000e+03],\n",
       "       [ 4.43396596e-01,  1.12200163e+02,  2.01200000e+03],\n",
       "       [-1.97834911e+00,  1.01970148e+02,  2.01200000e+03]])"
      ]
     },
     "execution_count": 12,
     "metadata": {},
     "output_type": "execute_result"
    }
   ],
   "source": [
    "X_train_tabular"
   ]
  },
  {
   "cell_type": "code",
   "execution_count": 13,
   "metadata": {
    "id": "cM6HeN-7bX-W"
   },
   "outputs": [],
   "source": [
    "y_train = y[df_train[df_train.fold!=0].index]\n",
    "y_val = y[df_train[df_train.fold==0].index]"
   ]
  },
  {
   "cell_type": "code",
   "execution_count": 14,
   "metadata": {
    "colab": {
     "base_uri": "https://localhost:8080/"
    },
    "id": "6-T2enegZ9Q1",
    "outputId": "97b6aeb9-fa5a-4e21-9f09-1df9d3168c20"
   },
   "outputs": [
    {
     "data": {
      "text/plain": [
       "(1371, 224, 224, 3)"
      ]
     },
     "execution_count": 14,
     "metadata": {},
     "output_type": "execute_result"
    }
   ],
   "source": [
    "X_train.shape"
   ]
  },
  {
   "cell_type": "code",
   "execution_count": 15,
   "metadata": {
    "colab": {
     "base_uri": "https://localhost:8080/"
    },
    "id": "a5ij5kHAZ9TQ",
    "outputId": "be3a286b-7b03-419b-a2ca-ef67132e84f1"
   },
   "outputs": [
    {
     "data": {
      "text/plain": [
       "(343, 224, 224, 3)"
      ]
     },
     "execution_count": 15,
     "metadata": {},
     "output_type": "execute_result"
    }
   ],
   "source": [
    "X_val.shape"
   ]
  },
  {
   "cell_type": "markdown",
   "metadata": {},
   "source": [
    "## Modelling"
   ]
  },
  {
   "cell_type": "markdown",
   "metadata": {},
   "source": [
    "We load ResNet50, set the layers as trainable and add it to the more complex model with multiinput"
   ]
  },
  {
   "cell_type": "code",
   "execution_count": 16,
   "metadata": {
    "id": "m8fpGVXRyWP3"
   },
   "outputs": [],
   "source": [
    "from tensorflow.keras.applications import resnet50\n",
    "\n",
    "resnet = resnet50.ResNet50(include_top=False, weights='imagenet', input_shape=(224, 224, 3))"
   ]
  },
  {
   "cell_type": "code",
   "execution_count": 17,
   "metadata": {
    "id": "mAZI5LHVynFL"
   },
   "outputs": [],
   "source": [
    "resnet.trainable = True"
   ]
  },
  {
   "cell_type": "code",
   "execution_count": 18,
   "metadata": {
    "colab": {
     "base_uri": "https://localhost:8080/",
     "height": 1000
    },
    "id": "EiAocRz7mZbP",
    "outputId": "72ea5c70-5b4c-4ea5-af11-15aba448253e"
   },
   "outputs": [
    {
     "name": "stdout",
     "output_type": "stream",
     "text": [
      "Model: \"mixed_model\"\n",
      "__________________________________________________________________________________________________\n",
      " Layer (type)                   Output Shape         Param #     Connected to                     \n",
      "==================================================================================================\n",
      " Input_a (InputLayer)           [(None, 224, 224, 3  0           []                               \n",
      "                                )]                                                                \n",
      "                                                                                                  \n",
      " resnet50 (Functional)          (None, 7, 7, 2048)   23587712    ['Input_a[0][0]']                \n",
      "                                                                                                  \n",
      " flatten (Flatten)              (None, 100352)       0           ['resnet50[0][0]']               \n",
      "                                                                                                  \n",
      " dense (Dense)                  (None, 200)          20070600    ['flatten[0][0]']                \n",
      "                                                                                                  \n",
      " Input_b (InputLayer)           [(None, 3)]          0           []                               \n",
      "                                                                                                  \n",
      " dense_1 (Dense)                (None, 50)           10050       ['dense[0][0]']                  \n",
      "                                                                                                  \n",
      " dense_2 (Dense)                (None, 14)           56          ['Input_b[0][0]']                \n",
      "                                                                                                  \n",
      " concatenated_layer (Concatenat  (None, 64)          0           ['dense_1[0][0]',                \n",
      " e)                                                               'dense_2[0][0]']                \n",
      "                                                                                                  \n",
      " dense_3 (Dense)                (None, 64)           4160        ['concatenated_layer[0][0]']     \n",
      "                                                                                                  \n",
      " dense_4 (Dense)                (None, 32)           2080        ['dense_3[0][0]']                \n",
      "                                                                                                  \n",
      " output_layer (Dense)           (None, 3)            99          ['dense_4[0][0]']                \n",
      "                                                                                                  \n",
      "==================================================================================================\n",
      "Total params: 43,674,757\n",
      "Trainable params: 43,621,637\n",
      "Non-trainable params: 53,120\n",
      "__________________________________________________________________________________________________\n"
     ]
    },
    {
     "data": {
      "image/png": "[encoded data removed]",
      "text/plain": [
       "<IPython.core.display.Image object>"
      ]
     },
     "execution_count": 18,
     "metadata": {},
     "output_type": "execute_result"
    }
   ],
   "source": [
    "a_ip_img = Input(shape=(224, 224, 3), name=\"Input_a\")\n",
    "a_1 = resnet(a_ip_img)\n",
    "a_2 = Flatten()(a_1)\n",
    "a_4 = Dense(200, activation=\"relu\")(a_2)\n",
    "a_5 = Dense(50, activation=\"relu\")(a_4)\n",
    "\n",
    "b_ip_img = Input(shape=(3), name=\"Input_b\")\n",
    "b_1 = Dense(14, activation=\"relu\")(b_ip_img)\n",
    "\n",
    "a_b = concatenate([a_5,b_1], name=\"concatenated_layer\")\n",
    "\n",
    "a_b_1 = Dense(64, activation = \"relu\")(a_b)\n",
    "a_b_2 = Dense(32, activation = \"relu\")(a_b_1)\n",
    "output_layer = Dense(3, activation = \"softmax\", name = \"output_layer\")(a_b_2)\n",
    "\n",
    "model = Model(inputs=[(a_ip_img,b_ip_img)], outputs=[output_layer], name = \"mixed_model\")\n",
    "\n",
    "model.summary()\n",
    "\n",
    "keras.utils.plot_model(model, show_shapes=False)"
   ]
  },
  {
   "cell_type": "markdown",
   "metadata": {
    "id": "e1qsPQ82wy_n"
   },
   "source": [
    "In order to be able to use the custom f1 function below, we have to transform the labels from logits into the sparse mode"
   ]
  },
  {
   "cell_type": "code",
   "execution_count": 19,
   "metadata": {
    "id": "-KNfDCthddvg"
   },
   "outputs": [],
   "source": [
    "y_val = np.array(pd.get_dummies(y_val))\n",
    "y_train = np.array(pd.get_dummies(y_train))"
   ]
  },
  {
   "cell_type": "markdown",
   "metadata": {},
   "source": [
    "## Data augmentation"
   ]
  },
  {
   "cell_type": "code",
   "execution_count": 20,
   "metadata": {
    "id": "ciYmT7CJhRzS"
   },
   "outputs": [],
   "source": [
    "train_datagen = ImageDataGenerator(\n",
    "    #rescale=1./255,\n",
    "    #rotation_range=50,\n",
    "    #shear_range=0.1,\n",
    "    zoom_range=0.2,\n",
    "    horizontal_flip=True,\n",
    "    vertical_flip=True,\n",
    "    #width_shift_range=0.1,\n",
    "    #height_shift_range=0.1,\n",
    "    fill_mode='nearest'\n",
    "    )\n",
    "\n",
    "train_generator = train_datagen.flow(\n",
    "    [X_train, X_train_tabular], \n",
    "    y_train, \n",
    "    batch_size=64\n",
    ")\n"
   ]
  },
  {
   "cell_type": "code",
   "execution_count": 21,
   "metadata": {
    "id": "H-0Kb9amZ2jz"
   },
   "outputs": [],
   "source": [
    "def f1(y_true, y_pred):\n",
    "\n",
    "    y_pred = K.round(y_pred)\n",
    "    tp = K.sum(K.cast(y_true*y_pred, 'float'), axis=0)\n",
    "    # tn = K.sum(K.cast((1-y_true)*(1-y_pred), 'float'), axis=0)\n",
    "    fp = K.sum(K.cast((1-y_true)*y_pred, 'float'), axis=0)\n",
    "    fn = K.sum(K.cast(y_true*(1-y_pred), 'float'), axis=0)\n",
    "\n",
    "    p = tp / (tp + fp + K.epsilon())\n",
    "    r = tp / (tp + fn + K.epsilon())\n",
    "\n",
    "    f1 = 2*p*r / (p+r+K.epsilon())\n",
    "    f1 = tf.where(tf.math.is_nan(f1), tf.zeros_like(f1), f1)\n",
    "    return K.mean(f1)"
   ]
  },
  {
   "cell_type": "markdown",
   "metadata": {},
   "source": [
    "## Model training"
   ]
  },
  {
   "cell_type": "markdown",
   "metadata": {},
   "source": [
    "Also very important!! If the learning rate is not lowered, since we are using a non-frozen pretrained resnet50, the training will not be stable at all"
   ]
  },
  {
   "cell_type": "code",
   "execution_count": 22,
   "metadata": {
    "id": "up9sdNYFheYK"
   },
   "outputs": [],
   "source": [
    "from tensorflow.keras.optimizers import Adam\n",
    "new_adam = Adam(learning_rate=2e-5)"
   ]
  },
  {
   "cell_type": "code",
   "execution_count": 23,
   "metadata": {
    "id": "MrQq-QUoSG87"
   },
   "outputs": [],
   "source": [
    "model.compile(loss='categorical_crossentropy', optimizer=new_adam, metrics=['accuracy', f1])"
   ]
  },
  {
   "cell_type": "markdown",
   "metadata": {},
   "source": [
    "Set up early stopping to avoid overfitting, with restore best weights"
   ]
  },
  {
   "cell_type": "code",
   "execution_count": 24,
   "metadata": {
    "id": "MOE5nm49ejRr"
   },
   "outputs": [],
   "source": [
    "callback_val_loss = EarlyStopping(monitor=\"val_loss\", patience=15, restore_best_weights = True)\n",
    "callback_val_f1 = EarlyStopping(monitor=\"val_f1\", patience=15, mode=\"max\", restore_best_weights = True)"
   ]
  },
  {
   "cell_type": "code",
   "execution_count": 25,
   "metadata": {
    "colab": {
     "base_uri": "https://localhost:8080/"
    },
    "id": "fo1_IXjNSJSp",
    "outputId": "85b23514-cc87-423d-be32-07ab03326a85"
   },
   "outputs": [
    {
     "name": "stdout",
     "output_type": "stream",
     "text": [
      "Epoch 1/100\n",
      "22/22 [==============================] - 40s 1s/step - loss: 61.8750 - accuracy: 0.3530 - f1: 0.2117 - val_loss: 55.6527 - val_accuracy: 0.3557 - val_f1: 0.2772\n",
      "Epoch 2/100\n",
      "22/22 [==============================] - 20s 890ms/step - loss: 18.9833 - accuracy: 0.5492 - f1: 0.4452 - val_loss: 25.7997 - val_accuracy: 0.5394 - val_f1: 0.3332\n",
      "Epoch 3/100\n",
      "22/22 [==============================] - 19s 837ms/step - loss: 4.6136 - accuracy: 0.7418 - f1: 0.5813 - val_loss: 21.6706 - val_accuracy: 0.5335 - val_f1: 0.2927\n",
      "Epoch 4/100\n",
      "22/22 [==============================] - 19s 844ms/step - loss: 2.5250 - accuracy: 0.7812 - f1: 0.6958 - val_loss: 20.3662 - val_accuracy: 0.5277 - val_f1: 0.2989\n",
      "Epoch 5/100\n",
      "22/22 [==============================] - 21s 935ms/step - loss: 1.9065 - accuracy: 0.8089 - f1: 0.7423 - val_loss: 16.0670 - val_accuracy: 0.5160 - val_f1: 0.2562\n",
      "Epoch 6/100\n",
      "22/22 [==============================] - 20s 912ms/step - loss: 1.4908 - accuracy: 0.8169 - f1: 0.7338 - val_loss: 14.2314 - val_accuracy: 0.5394 - val_f1: 0.3377\n",
      "Epoch 7/100\n",
      "22/22 [==============================] - 21s 950ms/step - loss: 1.2066 - accuracy: 0.8388 - f1: 0.7701 - val_loss: 13.5825 - val_accuracy: 0.5394 - val_f1: 0.3158\n",
      "Epoch 8/100\n",
      "22/22 [==============================] - 19s 866ms/step - loss: 0.9753 - accuracy: 0.8476 - f1: 0.7774 - val_loss: 10.4563 - val_accuracy: 0.5860 - val_f1: 0.4420\n",
      "Epoch 9/100\n",
      "22/22 [==============================] - 19s 855ms/step - loss: 0.8097 - accuracy: 0.8607 - f1: 0.7831 - val_loss: 9.8851 - val_accuracy: 0.5714 - val_f1: 0.4131\n",
      "Epoch 10/100\n",
      "22/22 [==============================] - 20s 860ms/step - loss: 0.6830 - accuracy: 0.8658 - f1: 0.8039 - val_loss: 8.7281 - val_accuracy: 0.5773 - val_f1: 0.4016\n",
      "Epoch 11/100\n",
      "22/22 [==============================] - 19s 849ms/step - loss: 0.8115 - accuracy: 0.8607 - f1: 0.8005 - val_loss: 9.7769 - val_accuracy: 0.5423 - val_f1: 0.2968\n",
      "Epoch 12/100\n",
      "22/22 [==============================] - 20s 910ms/step - loss: 0.7091 - accuracy: 0.8665 - f1: 0.7902 - val_loss: 6.5051 - val_accuracy: 0.6152 - val_f1: 0.4351\n",
      "Epoch 13/100\n",
      "22/22 [==============================] - 19s 867ms/step - loss: 0.4489 - accuracy: 0.8957 - f1: 0.8441 - val_loss: 5.4469 - val_accuracy: 0.6472 - val_f1: 0.5233\n",
      "Epoch 14/100\n",
      "22/22 [==============================] - 20s 869ms/step - loss: 0.4483 - accuracy: 0.9096 - f1: 0.8714 - val_loss: 4.9491 - val_accuracy: 0.6735 - val_f1: 0.5640\n",
      "Epoch 15/100\n",
      "22/22 [==============================] - 19s 861ms/step - loss: 0.4757 - accuracy: 0.9023 - f1: 0.8547 - val_loss: 4.8648 - val_accuracy: 0.6764 - val_f1: 0.5275\n",
      "Epoch 16/100\n",
      "22/22 [==============================] - 21s 920ms/step - loss: 0.4510 - accuracy: 0.9147 - f1: 0.8615 - val_loss: 3.8037 - val_accuracy: 0.7114 - val_f1: 0.5978\n",
      "Epoch 17/100\n",
      "22/22 [==============================] - 20s 915ms/step - loss: 0.3418 - accuracy: 0.9176 - f1: 0.8734 - val_loss: 3.2586 - val_accuracy: 0.7347 - val_f1: 0.6318\n",
      "Epoch 18/100\n",
      "22/22 [==============================] - 19s 856ms/step - loss: 0.3386 - accuracy: 0.9147 - f1: 0.8596 - val_loss: 2.9426 - val_accuracy: 0.7318 - val_f1: 0.6314\n",
      "Epoch 19/100\n",
      "22/22 [==============================] - 19s 864ms/step - loss: 0.3603 - accuracy: 0.9183 - f1: 0.8831 - val_loss: 2.8051 - val_accuracy: 0.7638 - val_f1: 0.6471\n",
      "Epoch 20/100\n",
      "22/22 [==============================] - 19s 851ms/step - loss: 0.3859 - accuracy: 0.9154 - f1: 0.8792 - val_loss: 3.0598 - val_accuracy: 0.7318 - val_f1: 0.6058\n",
      "Epoch 21/100\n",
      "22/22 [==============================] - 19s 864ms/step - loss: 0.2498 - accuracy: 0.9329 - f1: 0.9011 - val_loss: 2.7001 - val_accuracy: 0.7580 - val_f1: 0.6291\n",
      "Epoch 22/100\n",
      "22/22 [==============================] - 19s 856ms/step - loss: 0.3158 - accuracy: 0.9300 - f1: 0.8896 - val_loss: 2.7520 - val_accuracy: 0.7609 - val_f1: 0.6642\n",
      "Epoch 23/100\n",
      "22/22 [==============================] - 19s 858ms/step - loss: 0.2483 - accuracy: 0.9409 - f1: 0.9109 - val_loss: 2.6850 - val_accuracy: 0.7638 - val_f1: 0.6602\n",
      "Epoch 24/100\n",
      "22/22 [==============================] - 19s 864ms/step - loss: 0.2523 - accuracy: 0.9424 - f1: 0.9071 - val_loss: 2.2623 - val_accuracy: 0.7988 - val_f1: 0.7058\n",
      "Epoch 25/100\n",
      "22/22 [==============================] - 19s 849ms/step - loss: 0.1430 - accuracy: 0.9621 - f1: 0.9443 - val_loss: 2.3534 - val_accuracy: 0.7959 - val_f1: 0.7028\n",
      "Epoch 26/100\n",
      "22/22 [==============================] - 19s 853ms/step - loss: 0.1656 - accuracy: 0.9519 - f1: 0.9319 - val_loss: 2.4811 - val_accuracy: 0.7668 - val_f1: 0.6579\n",
      "Epoch 27/100\n",
      "22/22 [==============================] - 20s 882ms/step - loss: 0.2055 - accuracy: 0.9548 - f1: 0.9318 - val_loss: 2.3253 - val_accuracy: 0.7930 - val_f1: 0.6885\n",
      "Epoch 28/100\n",
      "22/22 [==============================] - 19s 848ms/step - loss: 0.1492 - accuracy: 0.9555 - f1: 0.9319 - val_loss: 2.3376 - val_accuracy: 0.7959 - val_f1: 0.6997\n",
      "Epoch 29/100\n",
      "22/22 [==============================] - 19s 848ms/step - loss: 0.2507 - accuracy: 0.9504 - f1: 0.9305 - val_loss: 2.6510 - val_accuracy: 0.7376 - val_f1: 0.6210\n",
      "Epoch 30/100\n",
      "22/22 [==============================] - 19s 849ms/step - loss: 0.1457 - accuracy: 0.9606 - f1: 0.9388 - val_loss: 2.3020 - val_accuracy: 0.7755 - val_f1: 0.6951\n",
      "Epoch 31/100\n",
      "22/22 [==============================] - 19s 847ms/step - loss: 0.1255 - accuracy: 0.9606 - f1: 0.9396 - val_loss: 2.4283 - val_accuracy: 0.7551 - val_f1: 0.6720\n",
      "Epoch 32/100\n",
      "22/22 [==============================] - 19s 851ms/step - loss: 0.1780 - accuracy: 0.9577 - f1: 0.9421 - val_loss: 2.4004 - val_accuracy: 0.7930 - val_f1: 0.7057\n",
      "Epoch 33/100\n",
      "22/22 [==============================] - 19s 853ms/step - loss: 0.1171 - accuracy: 0.9672 - f1: 0.9508 - val_loss: 2.3317 - val_accuracy: 0.7784 - val_f1: 0.6966\n",
      "Epoch 34/100\n",
      "22/22 [==============================] - 19s 858ms/step - loss: 0.0753 - accuracy: 0.9803 - f1: 0.9704 - val_loss: 2.3591 - val_accuracy: 0.7930 - val_f1: 0.7126\n",
      "Epoch 35/100\n",
      "22/22 [==============================] - 20s 904ms/step - loss: 0.1055 - accuracy: 0.9694 - f1: 0.9507 - val_loss: 2.2565 - val_accuracy: 0.7668 - val_f1: 0.6836\n",
      "Epoch 36/100\n",
      "22/22 [==============================] - 20s 889ms/step - loss: 0.1609 - accuracy: 0.9592 - f1: 0.9393 - val_loss: 2.3044 - val_accuracy: 0.7813 - val_f1: 0.7042\n",
      "Epoch 37/100\n",
      "22/22 [==============================] - 19s 853ms/step - loss: 0.1121 - accuracy: 0.9650 - f1: 0.9405 - val_loss: 2.4415 - val_accuracy: 0.7726 - val_f1: 0.6936\n",
      "Epoch 38/100\n",
      "22/22 [==============================] - 19s 872ms/step - loss: 0.1200 - accuracy: 0.9694 - f1: 0.9549 - val_loss: 2.4869 - val_accuracy: 0.7843 - val_f1: 0.6970\n",
      "Epoch 39/100\n",
      "22/22 [==============================] - 19s 851ms/step - loss: 0.0841 - accuracy: 0.9730 - f1: 0.9601 - val_loss: 2.4416 - val_accuracy: 0.7697 - val_f1: 0.6948\n",
      "Epoch 40/100\n",
      "22/22 [==============================] - 19s 848ms/step - loss: 0.0815 - accuracy: 0.9803 - f1: 0.9753 - val_loss: 2.3366 - val_accuracy: 0.7726 - val_f1: 0.7004\n",
      "Epoch 41/100\n",
      "22/22 [==============================] - 19s 847ms/step - loss: 0.0949 - accuracy: 0.9737 - f1: 0.9594 - val_loss: 2.2950 - val_accuracy: 0.7522 - val_f1: 0.6685\n",
      "Epoch 42/100\n",
      "22/22 [==============================] - 19s 866ms/step - loss: 0.0853 - accuracy: 0.9774 - f1: 0.9703 - val_loss: 2.2499 - val_accuracy: 0.7638 - val_f1: 0.6843\n",
      "Epoch 43/100\n",
      "22/22 [==============================] - 19s 851ms/step - loss: 0.0820 - accuracy: 0.9825 - f1: 0.9753 - val_loss: 2.3399 - val_accuracy: 0.7726 - val_f1: 0.6844\n",
      "Epoch 44/100\n",
      "22/22 [==============================] - 19s 853ms/step - loss: 0.0681 - accuracy: 0.9781 - f1: 0.9681 - val_loss: 2.4401 - val_accuracy: 0.7464 - val_f1: 0.6575\n",
      "Epoch 45/100\n",
      "22/22 [==============================] - 20s 902ms/step - loss: 0.0834 - accuracy: 0.9803 - f1: 0.9696 - val_loss: 2.5252 - val_accuracy: 0.7493 - val_f1: 0.6510\n",
      "Epoch 46/100\n",
      "22/22 [==============================] - 20s 897ms/step - loss: 0.1140 - accuracy: 0.9752 - f1: 0.9649 - val_loss: 2.5155 - val_accuracy: 0.7697 - val_f1: 0.6638\n",
      "Epoch 47/100\n",
      "22/22 [==============================] - 19s 852ms/step - loss: 0.0970 - accuracy: 0.9774 - f1: 0.9704 - val_loss: 2.5987 - val_accuracy: 0.7638 - val_f1: 0.6647\n",
      "Epoch 48/100\n",
      "22/22 [==============================] - 19s 844ms/step - loss: 0.0455 - accuracy: 0.9847 - f1: 0.9758 - val_loss: 2.5139 - val_accuracy: 0.7755 - val_f1: 0.6926\n",
      "Epoch 49/100\n",
      "22/22 [==============================] - 19s 852ms/step - loss: 0.0576 - accuracy: 0.9854 - f1: 0.9774 - val_loss: 2.4812 - val_accuracy: 0.7784 - val_f1: 0.6999\n"
     ]
    }
   ],
   "source": [
    "epochs = 100 # Will stop with early stopping so a high number can be set\n",
    "\n",
    "history = model.fit(train_generator, validation_data=([X_val, X_val_tabular], y_val), epochs=epochs, callbacks=[callback_val_loss, callback_val_f1])"
   ]
  },
  {
   "cell_type": "code",
   "execution_count": 29,
   "metadata": {
    "id": "HU2MVZq6tB8d"
   },
   "outputs": [],
   "source": [
    "from sklearn.metrics import f1_score"
   ]
  },
  {
   "cell_type": "code",
   "execution_count": 30,
   "metadata": {
    "colab": {
     "base_uri": "https://localhost:8080/"
    },
    "id": "5GAbtOHRQe0K",
    "outputId": "6cf4fea5-9140-45c0-d740-321ce2198d1e"
   },
   "outputs": [
    {
     "name": "stdout",
     "output_type": "stream",
     "text": [
      "11/11 [==============================] - 1s 101ms/step\n"
     ]
    }
   ],
   "source": [
    "preds_classes = np.argmax(model.predict([X_val, X_val_tabular]), axis=-1)"
   ]
  },
  {
   "cell_type": "code",
   "execution_count": 31,
   "metadata": {
    "colab": {
     "base_uri": "https://localhost:8080/"
    },
    "id": "vC5hOH9LP-zP",
    "outputId": "4ff45418-8a49-4dfa-e01a-239b52538570"
   },
   "outputs": [
    {
     "data": {
      "text/plain": [
       "0.7426027882417335"
      ]
     },
     "execution_count": 31,
     "metadata": {},
     "output_type": "execute_result"
    }
   ],
   "source": [
    "f1_score(np.argmax(np.array(y_val), axis=1), preds_classes, average='macro')\n"
   ]
  },
  {
   "cell_type": "code",
   "execution_count": 28,
   "metadata": {
    "id": "n7qALZRAClv7"
   },
   "outputs": [],
   "source": []
  }
 ],
 "metadata": {
  "accelerator": "GPU",
  "colab": {
   "provenance": []
  },
  "gpuClass": "standard",
  "kernelspec": {
   "display_name": "ml_env",
   "language": "python",
   "name": "ml_env"
  },
  "language_info": {
   "codemirror_mode": {
    "name": "ipython",
    "version": 3
   },
   "file_extension": ".py",
   "mimetype": "text/x-python",
   "name": "python",
   "nbconvert_exporter": "python",
   "pygments_lexer": "ipython3",
   "version": "3.7.4"
  }
 },
 "nbformat": 4,
 "nbformat_minor": 4
}
